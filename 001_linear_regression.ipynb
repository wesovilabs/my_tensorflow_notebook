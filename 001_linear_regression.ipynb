{
 "cells": [
  {
   "cell_type": "markdown",
   "metadata": {
    "collapsed": true
   },
   "source": [
    "# Linear regression  with Tensorflow"
   ]
  },
  {
   "cell_type": "markdown",
   "metadata": {},
   "source": [
    "###### Our company needs to have a clearer idea about how the adverstising investment is having effect on the company benefits.. We have all the records since 1986 and as a first point we need to find the linear regression for this.\n"
   ]
  },
  {
   "cell_type": "markdown",
   "metadata": {},
   "source": [
    "To achieve this, we will make use of **tensorflow**, an open source library for numeric computation using data flow graphs"
   ]
  },
  {
   "cell_type": "markdown",
   "metadata": {},
   "source": [
    "----------------"
   ]
  },
  {
   "cell_type": "markdown",
   "metadata": {},
   "source": [
    "First af all, we need to import the required libraries:"
   ]
  },
  {
   "cell_type": "markdown",
   "metadata": {},
   "source": [
    "**pandas**: This is used to load data from a csv file.\n",
    "\n",
    "**numpy**: It will help us to manipulate arrays\n",
    "\n",
    "**matplotlib.pyplot**: It display the graph\n",
    "\n",
    "**tensorflow**: the deep learning tool."
   ]
  },
  {
   "cell_type": "code",
   "execution_count": 975,
   "metadata": {
    "collapsed": true
   },
   "outputs": [],
   "source": [
    "import pandas as pd\n",
    "import tensorflow as tf\n",
    "import numpy as np\n",
    "import matplotlib.pyplot as plt\n",
    "rng = np.random"
   ]
  },
  {
   "cell_type": "markdown",
   "metadata": {},
   "source": [
    "Now we define the constant values such as the csv file path and the columns name."
   ]
  },
  {
   "cell_type": "code",
   "execution_count": 1051,
   "metadata": {
    "collapsed": true
   },
   "outputs": [],
   "source": [
    "DATA_PATH = 'data/company_investment.train'\n",
    "COLUMNS = [\"Year\", \"Advertising_expenses\", \"Turnover\"]"
   ]
  },
  {
   "cell_type": "markdown",
   "metadata": {},
   "source": [
    "To implement our linear regression we need some constants values that will be used by **tensorflow**"
   ]
  },
  {
   "cell_type": "markdown",
   "metadata": {},
   "source": [
    "**learning_rate**: \n",
    "\n",
    "**training_epochs**:  It is a measure of the number of times all of the training vectors are used once to update the weights.\n",
    "\n",
    "**display_step**: This one is used to print the info every epoches. "
   ]
  },
  {
   "cell_type": "code",
   "execution_count": 1049,
   "metadata": {
    "collapsed": true
   },
   "outputs": [],
   "source": [
    "learning_rate = 0.03\n",
    "training_epochs = 20\n",
    "display_step = 100"
   ]
  },
  {
   "cell_type": "markdown",
   "metadata": {},
   "source": [
    "Loading the csv file by pandas (More infor abbout reading a csv file can be found on [http://pandas.pydata.org/pandas-docs/stable/tutorials.html](http://pandas.pydata.org/pandas-docs/stable/tutorials.html)"
   ]
  },
  {
   "cell_type": "code",
   "execution_count": 1053,
   "metadata": {
    "collapsed": false
   },
   "outputs": [],
   "source": [
    "data = pd.read_csv(tf.gfile.Open(DATA_PATH),\n",
    "        names=COLUMNS,\n",
    "        sep=',',\n",
    "        header=0,\n",
    "        engine=\"python\")"
   ]
  },
  {
   "cell_type": "markdown",
   "metadata": {},
   "source": [
    "Once we have loaded the csv into a variable we need to find the two arrays that will contain the values for X and Y axis. As we can see below we take the values from the column \"Advertising_expenses\" to set the X acis and the values from column \"Turnover\" for the Y axis. We also format the values in these arrays as float"
   ]
  },
  {
   "cell_type": "code",
   "execution_count": 1036,
   "metadata": {
    "collapsed": false
   },
   "outputs": [],
   "source": [
    "train_X= np.asarray([i[1] for i in data.loc[:,['Advertising_expenses']].to_records()],dtype=\"float\")\n",
    "train_Y= np.asarray([i[1] for i in data.loc[:,['Turnover']].to_records()],dtype=\"float\")"
   ]
  },
  {
   "cell_type": "markdown",
   "metadata": {},
   "source": [
    "We need to find the number of elements in X axis."
   ]
  },
  {
   "cell_type": "code",
   "execution_count": 1037,
   "metadata": {
    "collapsed": false
   },
   "outputs": [],
   "source": [
    "n_samples = train_X.shape[0]"
   ]
  },
  {
   "cell_type": "markdown",
   "metadata": {},
   "source": [
    "We describe the format for each axis in the graph"
   ]
  },
  {
   "cell_type": "code",
   "execution_count": 1038,
   "metadata": {
    "collapsed": false
   },
   "outputs": [],
   "source": [
    "X = tf.placeholder(\"float\")\n",
    "Y = tf.placeholder(\"float\")"
   ]
  },
  {
   "cell_type": "markdown",
   "metadata": {},
   "source": [
    "Initially wegot some random values for weight and bias."
   ]
  },
  {
   "cell_type": "code",
   "execution_count": 1039,
   "metadata": {
    "collapsed": false
   },
   "outputs": [],
   "source": [
    "W = tf.Variable(rng.randn(), name=\"weight\")\n",
    "b = tf.Variable(rng.randn(), name=\"bias\")"
   ]
  },
  {
   "cell_type": "markdown",
   "metadata": {},
   "source": [
    "Construct a linear model"
   ]
  },
  {
   "cell_type": "code",
   "execution_count": 1040,
   "metadata": {
    "collapsed": false
   },
   "outputs": [],
   "source": [
    "pred = tf.add(tf.mul(X, W), b)"
   ]
  },
  {
   "cell_type": "markdown",
   "metadata": {},
   "source": [
    "Mean squared error"
   ]
  },
  {
   "cell_type": "code",
   "execution_count": 1045,
   "metadata": {
    "collapsed": false
   },
   "outputs": [],
   "source": [
    "cost = tf.reduce_sum(tf.pow(pred-Y, 2))/(2*n_samples)"
   ]
  },
  {
   "cell_type": "markdown",
   "metadata": {},
   "source": [
    "Tensorflow provide us with some other optimize. The **GradientDescentOptimizer** takes in two values, the function to optimize/find the minimum of and the learning rate associated with it"
   ]
  },
  {
   "cell_type": "code",
   "execution_count": 1054,
   "metadata": {
    "collapsed": false
   },
   "outputs": [],
   "source": [
    "optimizer = tf.train.GradientDescentOptimizer(learning_rate).minimize(cost)"
   ]
  },
  {
   "cell_type": "markdown",
   "metadata": {},
   "source": [
    "It's almost done!! initialize_all_variables just initialize all the variables for the graph"
   ]
  },
  {
   "cell_type": "code",
   "execution_count": 1047,
   "metadata": {
    "collapsed": true
   },
   "outputs": [],
   "source": [
    "init = tf.initialize_all_variables()"
   ]
  },
  {
   "cell_type": "code",
   "execution_count": 1048,
   "metadata": {
    "collapsed": false
   },
   "outputs": [
    {
     "name": "stdout",
     "output_type": "stream",
     "text": [
      "Epoch: 0100 cost= 0.009324249 W= 0.990019 b= 0.387212\n",
      "Epoch: 0200 cost= 0.007770765 W= 0.990888 b= 0.353489\n",
      "Epoch: 0300 cost= 0.006476148 W= 0.991682 b= 0.322703\n",
      "Epoch: 0400 cost= 0.005397482 W= 0.992406 b= 0.294599\n",
      "Epoch: 0500 cost= 0.004497977 W= 0.993067 b= 0.268941\n",
      "Epoch: 0600 cost= 0.003748588 W= 0.993671 b= 0.245517\n",
      "Epoch: 0700 cost= 0.003124078 W= 0.994222 b= 0.224135\n",
      "Epoch: 0800 cost= 0.002603763 W= 0.994726 b= 0.204614\n",
      "Epoch: 0900 cost= 0.002169796 W= 0.995185 b= 0.186793\n",
      "Epoch: 1000 cost= 0.001808339 W= 0.995604 b= 0.170524\n",
      "Epoch: 1100 cost= 0.001507211 W= 0.995987 b= 0.155673\n",
      "Epoch: 1200 cost= 0.001256007 W= 0.996337 b= 0.142115\n",
      "Epoch: 1300 cost= 0.001046823 W= 0.996656 b= 0.129738\n",
      "Epoch: 1400 cost= 0.000872332 W= 0.996947 b= 0.118439\n",
      "Epoch: 1500 cost= 0.000727042 W= 0.997213 b= 0.108124\n",
      "Epoch: 1600 cost= 0.000605863 W= 0.997456 b= 0.0987069\n",
      "Epoch: 1700 cost= 0.000504966 W= 0.997677 b= 0.09011\n",
      "Epoch: 1800 cost= 0.000420858 W= 0.99788 b= 0.0822618\n",
      "Epoch: 1900 cost= 0.000350714 W= 0.998064 b= 0.0750974\n",
      "Epoch: 2000 cost= 0.000292319 W= 0.998233 b= 0.0685569\n",
      "Optimization Finished!\n",
      "Training cost= 0.000292319 W= 0.998233 b= 0.0685569 \n",
      "\n"
     ]
    },
    {
     "data": {
      "image/png": "[encoded data removed]",
      "text/plain": [
       "<matplotlib.figure.Figure at 0x11fdf0080>"
      ]
     },
     "metadata": {},
     "output_type": "display_data"
    }
   ],
   "source": [
    "with tf.Session() as sess:\n",
    "    sess.run(init)\n",
    "    # Fit all training data\n",
    "    for epoch in range(training_epochs):\n",
    "        for (x, y) in zip(train_X, train_Y):\n",
    "            sess.run(optimizer, feed_dict={X: x, Y: y})\n",
    "        #Display logs per epoch step\n",
    "        if (epoch+1) % display_step == 0:\n",
    "            c = sess.run(cost, feed_dict={X: train_X, Y: train_Y})\n",
    "            print(\"Epoch:\", '%04d' % (epoch+1), \"cost=\", \"{:.9f}\".format(c), \\\n",
    "                \"W=\", sess.run(W), \"b=\", sess.run(b))\n",
    "\n",
    "    print(\"Optimization Finished!\")\n",
    "    training_cost = sess.run(cost, feed_dict={X: train_X, Y: train_Y})\n",
    "    print(\"Training cost=\", training_cost, \"W=\", sess.run(W), \"b=\", sess.run(b), '\\n')\n",
    "\n",
    "    #Graphic display\n",
    "    plt.plot(train_X, train_Y, 'ro', label='Original data')\n",
    "    plt.plot(train_X, sess.run(W) * train_X + sess.run(b), label='Fitted line')\n",
    "    plt.legend(loc='upper left')\n",
    "    plt.show()"
   ]
  },
  {
   "cell_type": "code",
   "execution_count": null,
   "metadata": {
    "collapsed": true
   },
   "outputs": [],
   "source": [
    ""
   ]
  },
  {
   "cell_type": "code",
   "execution_count": null,
   "metadata": {
    "collapsed": true
   },
   "outputs": [],
   "source": [
    ""
   ]
  }
 ],
 "metadata": {
  "kernelspec": {
   "display_name": "Python 3",
   "language": "python",
   "name": "python3"
  },
  "language_info": {
   "codemirror_mode": {
    "name": "ipython",
    "version": 3.0
   },
   "file_extension": ".py",
   "mimetype": "text/x-python",
   "name": "python",
   "nbconvert_exporter": "python",
   "pygments_lexer": "ipython3",
   "version": "3.5.2"
  }
 },
 "nbformat": 4,
 "nbformat_minor": 0
}